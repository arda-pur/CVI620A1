{
 "cells": [
  {
   "cell_type": "code",
   "execution_count": 264,
   "metadata": {},
   "outputs": [],
   "source": [
    "import cv2"
   ]
  },
  {
   "cell_type": "code",
   "execution_count": 265,
   "metadata": {},
   "outputs": [],
   "source": [
    "image = cv2.imread('scenery.jpg') "
   ]
  },
  {
   "cell_type": "code",
   "execution_count": 266,
   "metadata": {},
   "outputs": [],
   "source": [
    "rectangle_image = image.copy()\n",
    "cv2.rectangle(rectangle_image, (250, 150), (400, 250), (0, 255, 0), thickness=4)\n",
    "cv2.imshow(\"Rect. Thickness 4\", rectangle_image)\n",
    "cv2.waitKey(0)\n",
    "cv2.destroyAllWindows()"
   ]
  },
  {
   "cell_type": "code",
   "execution_count": 267,
   "metadata": {},
   "outputs": [],
   "source": [
    "rectangle_image = image.copy()\n",
    "cv2.rectangle(rectangle_image, (250, 150), (400, 250), (0, 255, 0), thickness=-1)\n",
    "cv2.imshow(\"Rect. Thickness -1\", rectangle_image)\n",
    "cv2.waitKey(0)\n",
    "cv2.destroyAllWindows()"
   ]
  },
  {
   "cell_type": "code",
   "execution_count": 268,
   "metadata": {},
   "outputs": [
    {
     "data": {
      "text/plain": [
       "array([[[228, 180, 122],\n",
       "        [228, 180, 122],\n",
       "        [228, 180, 122],\n",
       "        ...,\n",
       "        [247, 226, 194],\n",
       "        [247, 226, 194],\n",
       "        [247, 226, 194]],\n",
       "\n",
       "       [[228, 180, 122],\n",
       "        [228, 180, 122],\n",
       "        [228, 180, 122],\n",
       "        ...,\n",
       "        [247, 226, 194],\n",
       "        [247, 226, 194],\n",
       "        [247, 226, 194]],\n",
       "\n",
       "       [[228, 179, 123],\n",
       "        [228, 179, 123],\n",
       "        [228, 179, 123],\n",
       "        ...,\n",
       "        [248, 227, 196],\n",
       "        [248, 227, 196],\n",
       "        [248, 227, 196]],\n",
       "\n",
       "       ...,\n",
       "\n",
       "       [[ 25,  94,  79],\n",
       "        [ 26,  88,  74],\n",
       "        [ 21,  73,  63],\n",
       "        ...,\n",
       "        [231, 233, 204],\n",
       "        [212, 205, 180],\n",
       "        [250, 238, 214]],\n",
       "\n",
       "       [[ 22,  89,  74],\n",
       "        [ 36,  98,  84],\n",
       "        [ 42,  94,  84],\n",
       "        ...,\n",
       "        [215, 218, 193],\n",
       "        [183, 184, 164],\n",
       "        [220, 220, 202]],\n",
       "\n",
       "       [[  7,  74,  59],\n",
       "        [ 51, 113,  99],\n",
       "        [ 64, 116, 106],\n",
       "        ...,\n",
       "        [212, 215, 190],\n",
       "        [180, 183, 167],\n",
       "        [206, 211, 196]]], shape=(480, 640, 3), dtype=uint8)"
      ]
     },
     "execution_count": 268,
     "metadata": {},
     "output_type": "execute_result"
    }
   ],
   "source": [
    "text_image = rectangle_image.copy()\n",
    "cv2.putText(\n",
    "    text_image,\n",
    "    \"CVI 620 NSA\",\n",
    "    (258, 205),\n",
    "    cv2.FONT_HERSHEY_SCRIPT_SIMPLEX,\n",
    "    fontScale=0.6,\n",
    "    color=(0, 0, 0),\n",
    "    thickness=1,\n",
    "    lineType=cv2.LINE_AA,\n",
    ")\n"
   ]
  },
  {
   "cell_type": "code",
   "execution_count": 269,
   "metadata": {},
   "outputs": [],
   "source": [
    "cv2.imshow(\"With Text\", text_image)\n",
    "cv2.waitKey(0)\n",
    "cv2.destroyAllWindows()"
   ]
  }
 ],
 "metadata": {
  "kernelspec": {
   "display_name": "Python 3",
   "language": "python",
   "name": "python3"
  },
  "language_info": {
   "codemirror_mode": {
    "name": "ipython",
    "version": 3
   },
   "file_extension": ".py",
   "mimetype": "text/x-python",
   "name": "python",
   "nbconvert_exporter": "python",
   "pygments_lexer": "ipython3",
   "version": "3.11.5"
  }
 },
 "nbformat": 4,
 "nbformat_minor": 2
}
